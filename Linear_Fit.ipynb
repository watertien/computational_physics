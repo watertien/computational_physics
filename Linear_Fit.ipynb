{
 "cells": [
  {
   "cell_type": "markdown",
   "metadata": {},
   "source": [
    "# General Consideration\n",
    "\n",
    "When we're talking about fitting data with a given model(linear model), \n",
    "we are actually dealing with solving a linear equation\n",
    "\\begin{equation}\n",
    "    Y = A\\, X\n",
    "\\end{equation}\n",
    "in which \n",
    "\\begin{align}\n",
    "    Y =& \n",
    "     \\begin{bmatrix}\n",
    "        y_1 \\\\ \n",
    "        y_2 \\\\\n",
    "        \\vdots \\\\\n",
    "        y_N\n",
    "     \\end{bmatrix} \\\\\n",
    "    A =& \n",
    "     \\begin{bmatrix}\n",
    "        1& x_1 \\\\ \n",
    "        1& x_2 \\\\\n",
    "        \\vdots \\\\\n",
    "        1& x_N\n",
    "     \\end{bmatrix} \\\\\n",
    "    X =& \n",
    "     \\begin{bmatrix}\n",
    "         b \\\\ \n",
    "         m\n",
    "     \\end{bmatrix}\n",
    "\\end{align}\n",
    "We cannot solve the above equation directly, because it's over-constrained.\n",
    "On way to solve this is to multiply matrices to reduce dimensionality.  \n",
    "From another perspective, what we are doing is to find two parameters, \n",
    "namely $b, m$ to minimize an objective function called $\\chi^2$,\n",
    "which is the total squared error, scaled by uncertainties, or \n",
    "\\begin{equation}\n",
    "\\chi^2 =\\sum_{i=1}^N \\frac{[y_i - f(x_i)]^2}{\\sigma_{y_i}^2}\\equiv[Y-AX]^{\\intercal}C^{-1}[Y-AX]\n",
    "\\end{equation}\n",
    "$\\chi^2$ can be regarded as a metric distance between fitted points and raw data in data space. \n",
    "And $\\sigma_{y_i}$ is the corresponding weight of each point. \n",
    "When $\\sigma_{y_i}$ is large, $\\chi^2$ becomes less \"sensitive\" about $[y_i - f(x_i)]^2$, \n",
    "which affects the importance of $y_i$ to final result. "
   ]
  },
  {
   "cell_type": "markdown",
   "metadata": {},
   "source": [
    "# Perfect x, Gaussian y\n",
    "\n",
    "When x data is accurate without error, the uncentainty(not error) of y data is \n",
    "Gaussian uncentainty. Introduce the covariance matrix $C$\n",
    "\\begin{equation}\n",
    "    C = \\begin{bmatrix}\n",
    "        \\sigma_{y_{11}}& \\sigma_{y_{12}}& \\cdots& \\sigma_{y_{1N}}\\\\\n",
    "        \\sigma_{y_{21}}& \\sigma_{y_{22}}& \\cdots& \\sigma_{y_{2N}}\\\\\n",
    "        \\vdots& \\vdots& \\vdots& \\vdots\\\\\n",
    "        \\sigma_{y_{N1}}& \\sigma_{y_{N2}}& \\cdots& \\sigma_{y_{NN}}\\\\\n",
    "    \\end{bmatrix}\n",
    "\\end{equation}\n",
    "According to $\\chi^2$'s definition, the best-fit parameters can be abtained by\n",
    "\\begin{equation}\n",
    "    \\begin{bmatrix}\n",
    "        b \\\\\n",
    "        m\n",
    "    \\end{bmatrix}\n",
    "    = [A^{\\intercal}C^{-1}A]^{-1}[A^{\\intercal}C^{-1}Y]\n",
    "\\end{equation}"
   ]
  },
  {
   "cell_type": "code",
   "execution_count": 6,
   "metadata": {},
   "outputs": [],
   "source": [
    "# %load cp_imports.py\n",
    "%matplotlib inline\n",
    "import numpy as np\n",
    "import matplotlib.pyplot as plt\n",
    "import pandas as pd\n",
    "# Use retina backend for better figures\n",
    "%config InlineBackend.figure_format = 'retina'\n",
    "\n"
   ]
  },
  {
   "cell_type": "code",
   "execution_count": 94,
   "metadata": {},
   "outputs": [
    {
     "name": "stdout",
     "output_type": "stream",
     "text": [
      "      x    y  sigma_y  sigma_x  rho_xy\n",
      "ID                                    \n",
      "1   201  592       61        9   -0.84\n",
      "2   244  401       25        4    0.31\n",
      "3    47  583       38       11    0.64\n",
      "4   287  402       15        7   -0.27\n",
      "5   203  495       21        5   -0.33\n",
      "6    58  173       15        9    0.67\n",
      "7   210  479       27        4   -0.02\n",
      "8   202  504       14        4   -0.05\n",
      "9   198  510       30       11   -0.84\n",
      "10  158  416       16        7   -0.69\n"
     ]
    }
   ],
   "source": [
    "df = pd.read_csv(\"data/Hogg_2010_ex1.csv\", index_col=0, header=0)\n",
    "print(df.head(n=10))"
   ]
  },
  {
   "cell_type": "code",
   "execution_count": 129,
   "metadata": {},
   "outputs": [
    {
     "name": "stdout",
     "output_type": "stream",
     "text": [
      "[34.04772776] [2.23992083]\n",
      "[[ 3.32922601e+02 -1.88954491e+00]\n",
      " [-1.88954491e+00  1.16166311e-02]]\n",
      "[ 2.23992083 34.04772776]\n"
     ]
    },
    {
     "data": {
      "image/png": "[encoded data removed]",
      "text/plain": [
       "<Figure size 432x288 with 1 Axes>"
      ]
     },
     "metadata": {
      "image/png": {
       "height": 250,
       "width": 377
      },
      "needs_background": "light"
     },
     "output_type": "display_data"
    }
   ],
   "source": [
    "def fit_Gaussian(x, y, sigma_y):\n",
    "    '''\n",
    "    x: x data, 1-D ndarray of size N \n",
    "    y: y data, 1-D ndarray of size N\n",
    "    sigma_y: covariance matrix of y, 2-D array of shape (N, N)\n",
    "    \n",
    "    return best-fit slope and intersect with their uncertainties \n",
    "    '''\n",
    "    # Set x, y to column vector\n",
    "    x = x.reshape((-1, 1))\n",
    "    y = y.reshape((-1, 1))\n",
    "\n",
    "    # Construct needed matrics\n",
    "    A = np.concatenate((np.ones_like(x), x), axis=1)\n",
    "    \n",
    "    _left = np.matmul(np.matmul(A.T, sigma_y.I), A).I\n",
    "    _right = np.matmul(np.matmul(A.T, sigma_y.I), y)\n",
    "    b, m = np.array(np.matmul(_left, _right))\n",
    "    fit_cov = np.array(_left)\n",
    "    return b, m, fit_cov\n",
    "\n",
    "\n",
    "x = np.linspace(0.8 * min(df.x), 1.1 * max(df.x))\n",
    "sigma_y = np.diag(df.sigma_y[4:])\n",
    "\n",
    "# Set number of data points to be ignored \n",
    "start = 4\n",
    "# Convert Series to ndarray for shape manipulation\n",
    "raw_x = np.matrix(df.x[start:])\n",
    "raw_y = np.matrix(df.y[start:])\n",
    "# Note for the square of sigma_y\n",
    "sigma_y = np.matrix(np.diag(df.sigma_y[start:]**2))\n",
    "# Ignore the first four data points\n",
    "b, m, covs = fit_Gaussian(raw_x, raw_y, sigma_y)\n",
    "\n",
    "\n",
    "plt.errorbar(df.x[start:], df.y[start:], yerr=df.sigma_y[start:], \n",
    "             marker=\"o\", capsize=3, linestyle=\" \")\n",
    "plt.plot(x, m * x + b)\n",
    "print(b, m)\n",
    "print(covs)\n",
    "\n",
    "p = np.polyfit(df.x[start:], df.y[start:], 1, w=1/df.sigma_y[start:])\n",
    "print(p)"
   ]
  },
  {
   "cell_type": "code",
   "execution_count": 145,
   "metadata": {},
   "outputs": [
    {
     "name": "stdout",
     "output_type": "stream",
     "text": [
      "[[7.28946265e+01]\n",
      " [1.59605045e+00]\n",
      " [2.29888841e-03]]\n",
      "[[ 1.51410913e+03 -2.14671957e+01  6.99004580e-02]\n",
      " [-2.14671957e+01  3.36107642e-01 -1.15856956e-03]\n",
      " [ 6.99004580e-02 -1.15856956e-03  4.13658125e-06]]\n"
     ]
    },
    {
     "data": {
      "image/png": "[encoded data removed]",
      "text/plain": [
       "<Figure size 432x288 with 1 Axes>"
      ]
     },
     "metadata": {
      "image/png": {
       "height": 250,
       "width": 377
      },
      "needs_background": "light"
     },
     "output_type": "display_data"
    }
   ],
   "source": [
    "def fit_n_Gaussian(x, y, sigma_y, order=1):\n",
    "    '''\n",
    "    x: x data, 1-D ndarray of size N \n",
    "    y: y data, 1-D ndarray of size N\n",
    "    sigma_y: covariance matrix of y, 2-D array of shape (N, N)\n",
    "    \n",
    "    return best-fit slope and intersect with their uncertainties \n",
    "    '''\n",
    "    # Set x, y to column vector\n",
    "    x = x.reshape((-1, 1))\n",
    "    y = y.reshape((-1, 1))\n",
    "\n",
    "    # Construct needed matrics\n",
    "    A = np.concatenate((np.ones_like(x), x), axis=1)\n",
    "    \n",
    "    for i in range(2, order+1):\n",
    "        A = np.concatenate((A, np.array(x)**i), axis=1)\n",
    "    \n",
    "    _left = np.matmul(np.matmul(A.T, sigma_y.I), A).I\n",
    "    _right = np.matmul(np.matmul(A.T, sigma_y.I), y)\n",
    "    coes = np.array(np.matmul(_left, _right))\n",
    "    fit_cov = np.array(_left)\n",
    "    return coes, fit_cov\n",
    "\n",
    "\n",
    "x = np.linspace(0.8 * min(df.x), 1.1 * max(df.x))\n",
    "sigma_y = np.diag(df.sigma_y[4:])\n",
    "\n",
    "# Set number of data points to be ignored \n",
    "start = 4\n",
    "# Convert Series to ndarray for shape manipulation\n",
    "raw_x = np.matrix(df.x[start:])\n",
    "raw_y = np.matrix(df.y[start:])\n",
    "# Note for the square of sigma_y\n",
    "sigma_y = np.matrix(np.diag(df.sigma_y[start:]**2))\n",
    "# Ignore the first four data points\n",
    "coes, covs = fit_n_Gaussian(raw_x, raw_y, sigma_y, order=2)\n",
    "\n",
    "\n",
    "plt.errorbar(df.x[start:], df.y[start:], yerr=df.sigma_y[start:], \n",
    "             marker=\"o\", capsize=3, linestyle=\" \")\n",
    "plt.plot(x, coes[0] + coes[1] * x + coes[2] * x**2)\n",
    "print(coes)\n",
    "print(covs)"
   ]
  },
  {
   "cell_type": "code",
   "execution_count": 140,
   "metadata": {},
   "outputs": [],
   "source": [
    "for i in range(2, 1):\n",
    "    print(i)"
   ]
  },
  {
   "cell_type": "code",
   "execution_count": 134,
   "metadata": {},
   "outputs": [
    {
     "data": {
      "text/plain": [
       "matrix([[ 0,  1,  2,  3],\n",
       "        [ 4,  5,  6,  7],\n",
       "        [ 8,  9, 10, 11],\n",
       "        [12, 13, 14, 15]])"
      ]
     },
     "execution_count": 134,
     "metadata": {},
     "output_type": "execute_result"
    }
   ],
   "source": [
    "y"
   ]
  },
  {
   "cell_type": "code",
   "execution_count": 41,
   "metadata": {},
   "outputs": [
    {
     "data": {
      "text/plain": [
       "array([0, 1, 2, 3])"
      ]
     },
     "execution_count": 41,
     "metadata": {},
     "output_type": "execute_result"
    }
   ],
   "source": [
    "np.linalg.inv()"
   ]
  },
  {
   "cell_type": "code",
   "execution_count": 138,
   "metadata": {},
   "outputs": [
    {
     "name": "stdout",
     "output_type": "stream",
     "text": [
      "Variable       Type         Data/Info\n",
      "-------------------------------------\n",
      "a              matrix       [[0 1 2 3]]\n",
      "b              ndarray      1: 1 elems, type `float64`, 8 bytes\n",
      "berr           ndarray      2: 2 elems, type `float64`, 16 bytes\n",
      "c              ndarray      4: 4 elems, type `int32`, 16 bytes\n",
      "covs           ndarray      2x2: 4 elems, type `float64`, 32 bytes\n",
      "d              ndarray      4: 4 elems, type `int32`, 16 bytes\n",
      "df             DataFrame          x    y  sigma_y  si<...>      22        5   -0.56\n",
      "fit_Gaussian   function     <function fit_Gaussian at 0x0000025D0E905D90>\n",
      "m              ndarray      1: 1 elems, type `float64`, 8 bytes\n",
      "merr           ndarray      2: 2 elems, type `float64`, 16 bytes\n",
      "np             module       <module 'numpy' from 'C:\\<...>ges\\\\numpy\\\\__init__.py'>\n",
      "p              ndarray      2: 2 elems, type `float64`, 16 bytes\n",
      "pd             module       <module 'pandas' from 'C:<...>es\\\\pandas\\\\__init__.py'>\n",
      "plt            module       <module 'matplotlib.pyplo<...>\\\\matplotlib\\\\pyplot.py'>\n",
      "raw_x          matrix       [[203  58 210 202 198 158<...>166 160 186 125 218 146]]\n",
      "raw_y          matrix       [[495 173 479 504 510 416<...>400 337 423 334 533 344]]\n",
      "sigma_y        matrix       [[ 441    0    0    0    <...>    0    0\\n     0  484]]\n",
      "start          int          4\n",
      "x              ndarray      50: 50 elems, type `float64`, 400 bytes\n",
      "y              matrix       [[ 0  1  2  3]\\n [ 4  5  <...>9 10 11]\\n [12 13 14 15]]\n"
     ]
    }
   ],
   "source": [
    "whos"
   ]
  },
  {
   "cell_type": "markdown",
   "metadata": {},
   "source": [
    "a"
   ]
  },
  {
   "cell_type": "markdown",
   "metadata": {},
   "source": []
  },
  {
   "cell_type": "markdown",
   "metadata": {},
   "source": []
  },
  {
   "cell_type": "markdown",
   "metadata": {},
   "source": []
  },
  {
   "cell_type": "markdown",
   "metadata": {},
   "source": []
  }
 ],
 "metadata": {
  "kernelspec": {
   "display_name": "Python 3",
   "language": "python",
   "name": "python3"
  },
  "language_info": {
   "codemirror_mode": {
    "name": "ipython",
    "version": 3
   },
   "file_extension": ".py",
   "mimetype": "text/x-python",
   "name": "python",
   "nbconvert_exporter": "python",
   "pygments_lexer": "ipython3",
   "version": "3.6.6"
  },
  "toc": {
   "base_numbering": 1,
   "nav_menu": {},
   "number_sections": true,
   "sideBar": true,
   "skip_h1_title": false,
   "title_cell": "Table of Contents",
   "title_sidebar": "Contents",
   "toc_cell": false,
   "toc_position": {},
   "toc_section_display": true,
   "toc_window_display": true
  }
 },
 "nbformat": 4,
 "nbformat_minor": 2
}
