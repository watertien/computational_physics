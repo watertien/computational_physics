{
 "cells": [
  {
   "cell_type": "markdown",
   "metadata": {},
   "source": [
    "# General Consideration\n",
    "\n",
    "When we're talking about fitting data with a given model(linear model), \n",
    "we are actually dealing with solving a linear equation\n",
    "\\begin{equation}\n",
    "    Y = A\\, X\n",
    "\\end{equation}\n",
    "in which \n",
    "\\begin{align}\n",
    "    Y =& \n",
    "     \\begin{bmatrix}\n",
    "        y_1 \\\\ \n",
    "        y_2 \\\\\n",
    "        \\vdots \\\\\n",
    "        y_N\n",
    "     \\end{bmatrix} \\\\\n",
    "    A =& \n",
    "     \\begin{bmatrix}\n",
    "        1& x_1 \\\\ \n",
    "        1& x_2 \\\\\n",
    "        \\vdots \\\\\n",
    "        1& x_N\n",
    "     \\end{bmatrix} \\\\\n",
    "    X =& \n",
    "     \\begin{bmatrix}\n",
    "         b \\\\ \n",
    "         m\n",
    "     \\end{bmatrix}\n",
    "\\end{align}\n",
    "We cannot solve the above equation directly, because it's over-constrained.\n"
   ]
  },
  {
   "cell_type": "markdown",
   "metadata": {},
   "source": [
    "# Perfect x, Gaussian y\n"
   ]
  },
  {
   "cell_type": "markdown",
   "metadata": {},
   "source": []
  },
  {
   "cell_type": "markdown",
   "metadata": {},
   "source": []
  },
  {
   "cell_type": "markdown",
   "metadata": {},
   "source": []
  },
  {
   "cell_type": "markdown",
   "metadata": {},
   "source": []
  },
  {
   "cell_type": "markdown",
   "metadata": {},
   "source": []
  }
 ],
 "metadata": {
  "kernelspec": {
   "display_name": "Python 3",
   "language": "python",
   "name": "python3"
  },
  "language_info": {
   "codemirror_mode": {
    "name": "ipython",
    "version": 3
   },
   "file_extension": ".py",
   "mimetype": "text/x-python",
   "name": "python",
   "nbconvert_exporter": "python",
   "pygments_lexer": "ipython3",
   "version": "3.7.0"
  },
  "toc": {
   "base_numbering": 1,
   "nav_menu": {},
   "number_sections": true,
   "sideBar": true,
   "skip_h1_title": false,
   "title_cell": "Table of Contents",
   "title_sidebar": "Contents",
   "toc_cell": false,
   "toc_position": {},
   "toc_section_display": true,
   "toc_window_display": true
  }
 },
 "nbformat": 4,
 "nbformat_minor": 2
}
