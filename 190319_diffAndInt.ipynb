{
 "cells": [
  {
   "cell_type": "code",
   "execution_count": 5,
   "metadata": {
    "scrolled": true
   },
   "outputs": [
    {
     "data": {
      "text/plain": [
       "[<matplotlib.lines.Line2D at 0x22589b3a630>,\n",
       " <matplotlib.lines.Line2D at 0x22589b3a780>]"
      ]
     },
     "execution_count": 5,
     "metadata": {},
     "output_type": "execute_result"
    },
    {
     "data": {
      "image/png": "[encoded data removed]",
      "text/plain": [
       "<Figure size 432x288 with 1 Axes>"
      ]
     },
     "metadata": {
      "needs_background": "light"
     },
     "output_type": "display_data"
    }
   ],
   "source": [
    "import numpy as np\n",
    "import matplotlib.pyplot as plt\n",
    "\n",
    "\n",
    "def func_diff(f, x, h):\n",
    "    return ( f(x + h / 2) - f(x - h / 2)) / h\n",
    "\n",
    "\n",
    "x0, x1, n = -2, 2, 1000\n",
    "x = np.linspace(x0, x1, n)\n",
    "h = (x1 - x0) / (n - 1)\n",
    "\n",
    "x_tanh = np.tanh(x)\n",
    "diff_num = func_diff(np.tanh, x, h)\n",
    "diff_ana = 1 - x_tanh**2\n",
    "\n",
    "plt.plot(x, diff_num+1,'r--',  x, diff_ana)\n"
   ]
  },
  {
   "cell_type": "code",
   "execution_count": 10,
   "metadata": {
    "scrolled": true
   },
   "outputs": [
    {
     "name": "stdout",
     "output_type": "stream",
     "text": [
      "relative error: 6.864576E-01\n",
      "relative error: 5.993513E-02\n",
      "relative error: 5.917435E-03\n",
      "relative error: 5.909924E-04\n"
     ]
    }
   ],
   "source": [
    "def trape_int(f, x0, x1, n):\n",
    "    x = np.linspace(x0, x1, n)\n",
    "    h = (x1 - x0) / (n - 1)\n",
    "    return h * (1/2 * f(x0) + 1/2 * f(x1) \n",
    "            + sum([f(x0 + i * h) for i in range(1, n)]))\n",
    "\n",
    "\n",
    "def x4_poly(x):\n",
    "    return x**4 - 2 * x + 1\n",
    "\n",
    "\n",
    "ana_int_func = lambda x: 1/5 * x**5 - x**2 + x \n",
    "ana_int = ana_int_func(2) - ana_int_func(0)\n",
    "\n",
    "for i in [10, 100, 1000, 10**4]:\n",
    "    num_int = trape_int(x4_poly, 0, 2, i)\n",
    "    print(f\"relative error: {(num_int - ana_int) / ana_int :E}\")\n",
    "    "
   ]
  }
 ],
 "metadata": {
  "kernelspec": {
   "display_name": "Python 3",
   "language": "python",
   "name": "python3"
  },
  "language_info": {
   "codemirror_mode": {
    "name": "ipython",
    "version": 3
   },
   "file_extension": ".py",
   "mimetype": "text/x-python",
   "name": "python",
   "nbconvert_exporter": "python",
   "pygments_lexer": "ipython3",
   "version": "3.7.3"
  },
  "toc": {
   "base_numbering": 1,
   "nav_menu": {},
   "number_sections": true,
   "sideBar": true,
   "skip_h1_title": false,
   "title_cell": "Table of Contents",
   "title_sidebar": "Contents",
   "toc_cell": false,
   "toc_position": {},
   "toc_section_display": true,
   "toc_window_display": true
  }
 },
 "nbformat": 4,
 "nbformat_minor": 2
}
