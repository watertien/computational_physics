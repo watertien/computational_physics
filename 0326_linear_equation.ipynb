{
 "cells": [
  {
   "cell_type": "code",
   "execution_count": 2,
   "metadata": {},
   "outputs": [],
   "source": [
    "# %load cp_imports.py\n",
    "%matplotlib inline\n",
    "import numpy as np\n",
    "import matplotlib.pyplot as plt\n",
    "import pandas as pd\n",
    "# Use retina backend for better figures\n",
    "%config InlineBackend.figure_format = 'retina'\n"
   ]
  },
  {
   "cell_type": "code",
   "execution_count": 23,
   "metadata": {
    "scrolled": true
   },
   "outputs": [
    {
     "name": "stdout",
     "output_type": "stream",
     "text": [
      "[[ 1  0  2  0 -2]\n",
      " [ 0  1 -1  0  2]\n",
      " [ 0  0  1 -1 -3]\n",
      " [ 0  0  0  1  0]]\n",
      "[ 4. -1. -3.  0.]\n"
     ]
    }
   ],
   "source": [
    "coefficient = np.array([[2, 1, 4, 1, -4], [3, 4, -1, -1, 3],\n",
    "                        [1, -4, 1, 5, 9], [2, -2, 1, 3, 7]])\n",
    "\n",
    "dimension = coefficient.shape[0]\n",
    "varibles = np.zeros(dimension)\n",
    "for i in range(dimension):\n",
    "    coefficient[i] = coefficient[i] / coefficient[i, i]\n",
    "    for j in range(i+1, dimension):\n",
    "        coefficient[j] = coefficient[j] - coefficient[j, i] / coefficient[i, i] * coefficient[i]\n",
    "\n",
    "# Solve xi in reverse order \n",
    "for i in range(-1, -dimension-1, -1):\n",
    "    varibles[i] = coefficient[i, -1] - sum(coefficient[i, :-1] * varibles)\n",
    "\n",
    "print(coefficient)\n",
    "print(varibles)"
   ]
  },
  {
   "cell_type": "code",
   "execution_count": 22,
   "metadata": {},
   "outputs": [
    {
     "name": "stdout",
     "output_type": "stream",
     "text": [
      "-1 0.0\n",
      "-2 -3.0\n",
      "-3 -1.0\n"
     ]
    }
   ],
   "source": []
  }
 ],
 "metadata": {
  "kernelspec": {
   "display_name": "Python 3",
   "language": "python",
   "name": "python3"
  },
  "language_info": {
   "codemirror_mode": {
    "name": "ipython",
    "version": 3
   },
   "file_extension": ".py",
   "mimetype": "text/x-python",
   "name": "python",
   "nbconvert_exporter": "python",
   "pygments_lexer": "ipython3",
   "version": "3.7.0"
  },
  "toc": {
   "base_numbering": 1,
   "nav_menu": {},
   "number_sections": true,
   "sideBar": true,
   "skip_h1_title": false,
   "title_cell": "Table of Contents",
   "title_sidebar": "Contents",
   "toc_cell": false,
   "toc_position": {},
   "toc_section_display": true,
   "toc_window_display": false
  }
 },
 "nbformat": 4,
 "nbformat_minor": 2
}
