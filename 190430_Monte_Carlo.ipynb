{
 "cells": [
  {
   "cell_type": "code",
   "execution_count": 2,
   "metadata": {},
   "outputs": [],
   "source": [
    "# %load cp_imports.py\n",
    "%matplotlib inline\n",
    "import numpy as np\n",
    "import matplotlib.pyplot as plt\n",
    "import pandas as pd\n",
    "# Use retina backend for better figures\n",
    "%config InlineBackend.figure_format = 'retina'\n"
   ]
  },
  {
   "cell_type": "markdown",
   "metadata": {},
   "source": [
    "# Pseudorandom Number\n",
    "\n",
    "**Linear congruential generator**  \n",
    "\\begin{equation}\n",
    "    x' = (ax + c) \\ \\text{mod}\\ m\n",
    "\\end{equation}\n",
    "    \n",
    "(Save produced data into a file for debugging.)"
   ]
  },
  {
   "cell_type": "code",
   "execution_count": 50,
   "metadata": {},
   "outputs": [],
   "source": [
    "def dice_roller():\n",
    "    return np.random.randint(0, 7)\n",
    "\n",
    "count = 0\n",
    "n = 100\n",
    "for _ in range(n):\n",
    "    if dice_roller() == 6 and dice_roller() == 1:\n",
    "        count += 1\n",
    "print(f\"{(count/n - 1/36) * 36}\")"
   ]
  },
  {
   "cell_type": "markdown",
   "metadata": {},
   "source": [
    "# Sampling Method\n",
    "\n",
    "Given a series of uniform distribution between 0~1, how to generate arbitrary distribution set?  \n",
    "\n",
    "1. calculate $F(x)$(CDF)\n",
    "1. generate $\\lambda$ from (0, 1)uniform distribution  \n",
    "1. solve $F(x) = \\lambda$\n"
   ]
  },
  {
   "cell_type": "markdown",
   "metadata": {},
   "source": [
    "# Seed Function "
   ]
  },
  {
   "cell_type": "markdown",
   "metadata": {},
   "source": [
    "# Nuclear Decay "
   ]
  },
  {
   "cell_type": "markdown",
   "metadata": {},
   "source": [
    "# Brownian Motion\n",
    "\n",
    "(0, 1): 0---inclusive, 1---exclucive"
   ]
  }
 ],
 "metadata": {
  "kernelspec": {
   "display_name": "Python 3",
   "language": "python",
   "name": "python3"
  },
  "language_info": {
   "codemirror_mode": {
    "name": "ipython",
    "version": 3
   },
   "file_extension": ".py",
   "mimetype": "text/x-python",
   "name": "python",
   "nbconvert_exporter": "python",
   "pygments_lexer": "ipython3",
   "version": "3.7.3"
  },
  "toc": {
   "base_numbering": 1,
   "nav_menu": {},
   "number_sections": true,
   "sideBar": true,
   "skip_h1_title": false,
   "title_cell": "Table of Contents",
   "title_sidebar": "Contents",
   "toc_cell": false,
   "toc_position": {},
   "toc_section_display": true,
   "toc_window_display": false
  }
 },
 "nbformat": 4,
 "nbformat_minor": 2
}
